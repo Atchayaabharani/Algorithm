{
 "cells": [
  {
   "cell_type": "code",
   "execution_count": 6,
   "id": "593ffa98",
   "metadata": {},
   "outputs": [
    {
     "name": "stdout",
     "output_type": "stream",
     "text": [
      "Shortest path: ['B', 'C', 'D', 'E']\n"
     ]
    }
   ],
   "source": [
    "import heapq\n",
    "import math\n",
    "\n",
    "def astar(start, goal, get_neighbors, heuristic):\n",
    "    queue = [(heuristic(start, goal), start)]\n",
    "    visited = set()\n",
    "    g_score = {start: 0}\n",
    "    f_score = {start: heuristic(start, goal)}\n",
    "    came_from = {}\n",
    "\n",
    "    while queue:\n",
    "        current = heapq.heappop(queue)[1]\n",
    "        if current == goal:\n",
    "            path = []\n",
    "            while current in came_from:\n",
    "                path.append(current)\n",
    "                current = came_from[current]\n",
    "            path.append(start)\n",
    "            path.reverse()\n",
    "            return path\n",
    "\n",
    "        visited.add(current)\n",
    "        for neighbor, cost in get_neighbors(current):\n",
    "            if neighbor in visited:\n",
    "                continue\n",
    "            tentative_g = g_score[current] + cost\n",
    "            if neighbor not in g_score or tentative_g < g_score[neighbor]:\n",
    "                came_from[neighbor] = current\n",
    "                g_score[neighbor] = tentative_g\n",
    "                f_score[neighbor] = tentative_g + heuristic(neighbor, goal)\n",
    "                heapq.heappush(queue, (f_score[neighbor], neighbor))\n",
    "    return None\n",
    "\n",
    "# Example heuristic: for non-geometric graphs, set it to 0 (Dijkstra's)\n",
    "def zero_heuristic(a, b):\n",
    "    return 0\n",
    "\n",
    "# Example graph (dict format)\n",
    "graph = {\n",
    "    'A': [('B', 1), ('C', 3)],\n",
    "    'B': [('A', 1), ('C', 1), ('D', 3)],\n",
    "    'C': [('A', 3), ('B', 1), ('D', 1), ('E', 5)],\n",
    "    'D': [('B', 3), ('C', 1), ('E', 2)],\n",
    "    'E': [('C', 5), ('D', 2)]\n",
    "}\n",
    "\n",
    "def get_neighbors(node):\n",
    "    return graph.get(node, [])\n",
    "\n",
    "if __name__ == \"__main__\":\n",
    "    start = 'B'\n",
    "    goal = 'E'\n",
    "    path = astar(start, goal, get_neighbors, zero_heuristic)\n",
    "    print(\"Shortest path:\", path)\n"
   ]
  },
  {
   "cell_type": "code",
   "execution_count": null,
   "id": "a89a3d0c",
   "metadata": {},
   "outputs": [],
   "source": []
  }
 ],
 "metadata": {
  "kernelspec": {
   "display_name": "base",
   "language": "python",
   "name": "python3"
  },
  "language_info": {
   "codemirror_mode": {
    "name": "ipython",
    "version": 3
   },
   "file_extension": ".py",
   "mimetype": "text/x-python",
   "name": "python",
   "nbconvert_exporter": "python",
   "pygments_lexer": "ipython3",
   "version": "3.11.5"
  }
 },
 "nbformat": 4,
 "nbformat_minor": 5
}
